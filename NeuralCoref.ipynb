{
  "nbformat": 4,
  "nbformat_minor": 0,
  "metadata": {
    "colab": {
      "name": "NeuralCoref.ipynb",
      "provenance": [],
      "collapsed_sections": []
    },
    "kernelspec": {
      "name": "python3",
      "display_name": "Python 3"
    }
  },
  "cells": [
    {
      "cell_type": "code",
      "metadata": {
        "id": "JGCiEK76JMbZ"
      },
      "source": [
        "import re\n",
        "import json\n",
        "import pandas as pd\n",
        "from google.colab import drive\n",
        "from nltk.tokenize import sent_tokenize"
      ],
      "execution_count": null,
      "outputs": []
    },
    {
      "cell_type": "code",
      "metadata": {
        "id": "MWIMr_wPZ_4B"
      },
      "source": [
        "\n",
        "drive.mount('/content/gdrive')\n",
        "\n",
        "!git clone https://github.com/huggingface/neuralcoref.git\n",
        "!pip install -U spacy\n",
        "!python -m spacy download en\n",
        "\n",
        "import spacy\n",
        "nlp = spacy.load('en')\n",
        "\n",
        "%cd neuralcoref\n",
        "\n",
        "!pip install -r requirements.txt\n",
        "!pip install -e .\n",
        "\n",
        "import neuralcoref\n",
        "neuralcoref.add_to_pipe(nlp)"
      ],
      "execution_count": null,
      "outputs": []
    },
    {
      "cell_type": "code",
      "metadata": {
        "colab": {
          "base_uri": "https://localhost:8080/"
        },
        "id": "RQ-GbiddZ_7w",
        "outputId": "d6202efb-22e8-47ac-a274-53bcb21423b0"
      },
      "source": [
        "doc1 = nlp('My sister has a dog. She loves him.')\n",
        "print(doc1._.coref_clusters)"
      ],
      "execution_count": 2,
      "outputs": [
        {
          "output_type": "stream",
          "text": [
            "[My sister: [My sister, She], a dog: [a dog, him]]\n"
          ],
          "name": "stdout"
        }
      ]
    },
    {
      "cell_type": "code",
      "metadata": {
        "id": "KmSqTDVGdK7N"
      },
      "source": [
        "def detect_coref(text):\n",
        "  doc = nlp(text)\n",
        "  return doc._.coref_clusters"
      ],
      "execution_count": 17,
      "outputs": []
    },
    {
      "cell_type": "code",
      "metadata": {
        "id": "c6rqUNh8auaz"
      },
      "source": [
        "gap_val = pd.read_csv(\"https://raw.githubusercontent.com/google-research-datasets/gap-coreference/master/gap-validation.tsv\", sep='\\t')"
      ],
      "execution_count": 11,
      "outputs": []
    },
    {
      "cell_type": "code",
      "metadata": {
        "id": "QzDvBUF6duHl"
      },
      "source": [
        "gap_val[\"coref_clusters\"] = gap_val[\"Text\"].apply(detect_coref)"
      ],
      "execution_count": 26,
      "outputs": []
    },
    {
      "cell_type": "code",
      "metadata": {
        "id": "sI0KOQ7Ta1KF"
      },
      "source": [
        "coref_clusts = gap_val[\"coref_clusters\"][:100]"
      ],
      "execution_count": 30,
      "outputs": []
    },
    {
      "cell_type": "code",
      "metadata": {
        "id": "wA_sTgcUkFrb"
      },
      "source": [
        "new_coref_clust = []\n",
        "\n",
        "for clust in coref_clusts:\n",
        "  dummy = []\n",
        "  for item in clust:\n",
        "    dum = []\n",
        "    for i in item:\n",
        "      dum.append(str(i))\n",
        "    dummy.append(dum)\n",
        "  new_coref_clust.append(dummy)"
      ],
      "execution_count": 83,
      "outputs": []
    },
    {
      "cell_type": "code",
      "metadata": {
        "id": "Ybim_StM_zqH"
      },
      "source": [
        "with open(\"coref_clusters\", \"w\") as f:\n",
        "    json.dump(new_coref_clust, f)"
      ],
      "execution_count": 89,
      "outputs": []
    }
  ]
}